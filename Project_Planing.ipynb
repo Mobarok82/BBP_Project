{
  "nbformat": 4,
  "nbformat_minor": 0,
  "metadata": {
    "colab": {
      "provenance": [],
      "authorship_tag": "ABX9TyPmQr4t5nGfacvh0pVZXASH"
    },
    "kernelspec": {
      "name": "python3",
      "display_name": "Python 3"
    },
    "language_info": {
      "name": "python"
    }
  },
  "cells": [
    {
      "cell_type": "markdown",
      "source": [
        "# ***Project Objectives***\n",
        "\n",
        "    Provide users with the ability to create accounts by providing basic details.\n",
        "    Enable deposit, withdrawal, and balance inquiry operations.\n",
        "    Persist account information in a text file for future use.\n",
        "    Validate inputs (e.g., account numbers and amounts) using regular expressions.\n",
        "    Use modular and reusable code through OOP design.\n",
        "\n",
        "**Features**\n",
        "1.* Account Management*\n",
        "\n",
        "    Create Account:\n",
        "        Input: User's name, unique account number, and initial deposit.\n",
        "        Validation: Ensure the account number format is valid using regular expressions (e.g., ACC123456).\n",
        "        Save the account details (name, account number, balance) in a text file.\n",
        "    View Account:\n",
        "        Retrieve and display account details (name, account number, and balance) from the text file.\n",
        "\n",
        "2. Transactions\n",
        "\n",
        "    Deposit:\n",
        "        Add a user-specified amount to the account balance.\n",
        "        Validate the amount (e.g., ensure it is positive).\n",
        "    Withdraw:\n",
        "        Deduct a user-specified amount from the account balance.\n",
        "        Ensure sufficient funds before completing the withdrawal.\n",
        "    Balance Inquiry:\n",
        "        Display the current balance of an account.\n",
        "\n",
        "3. Data Persistence\n",
        "\n",
        "    All account information will be saved in a text file (accounts.txt).\n",
        "    Each account entry will be stored in the format:\n",
        "\n",
        "    Account Number, Name, Balance\n",
        "    ACC123456, John Doe, 1500.00\n",
        "\n",
        "    The text file will be updated after every transaction.\n",
        "\n",
        "4. Input Validation\n",
        "\n",
        "    Account Number:\n",
        "        Format: Must start with ACC followed by six digits (e.g., ACC123456).\n",
        "        Use regular expressions (^ACC\\d{6}$) for validation.\n",
        "    Transaction Amount:\n",
        "        Ensure the entered amount is a positive number.\n",
        "\n",
        "5. OOP Design\n",
        "\n",
        "    Classes:\n",
        "        Account: Represents individual accounts and their operations.\n",
        "        Bank: Manages all accounts and handles file I/O.\n",
        "\n",
        "Technology Stack\n",
        "\n",
        "    Programming Language: Python\n",
        "    Libraries:\n",
        "        re: For regular expressions.\n",
        "        os: To handle file operations."
      ],
      "metadata": {
        "id": "tAMpu0OSSAcY"
      }
    }
  ]
}